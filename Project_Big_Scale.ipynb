{
  "nbformat": 4,
  "nbformat_minor": 0,
  "metadata": {
    "colab": {
      "name": "Project Big Scale.ipynb",
      "provenance": [],
      "collapsed_sections": []
    },
    "kernelspec": {
      "name": "python3",
      "display_name": "Python 3"
    }
  },
  "cells": [
    {
      "cell_type": "code",
      "metadata": {
        "id": "e0OH1KvQrGKp"
      },
      "source": [
        "#Necessary Libraries\r\n",
        "\r\n",
        "import pandas as pd \r\n",
        "import requests"
      ],
      "execution_count": 1,
      "outputs": []
    },
    {
      "cell_type": "code",
      "metadata": {
        "id": "RhGYxteDsber"
      },
      "source": [
        "#Function to split text into sentencs\r\n",
        "# -*- coding: utf-8 -*-\r\n",
        "import re\r\n",
        "alphabets= \"([A-Za-z])\"\r\n",
        "prefixes = \"(Mr|St|Mrs|Ms|Dr)[.]\"\r\n",
        "suffixes = \"(Inc|Ltd|Jr|Sr|Co)\"\r\n",
        "starters = \"(Mr|Mrs|Ms|Dr|He\\s|She\\s|It\\s|They\\s|Their\\s|Our\\s|We\\s|But\\s|However\\s|That\\s|This\\s|Wherever)\"\r\n",
        "acronyms = \"([A-Z][.][A-Z][.](?:[A-Z][.])?)\"\r\n",
        "websites = \"[.](com|net|org|io|gov)\"\r\n",
        "\r\n",
        "def split_into_sentences(text):\r\n",
        "    text = \" \" + text + \"  \"\r\n",
        "    text = text.replace(\"\\n\",\" \")\r\n",
        "    text = re.sub(prefixes,\"\\\\1<prd>\",text)\r\n",
        "    text = re.sub(websites,\"<prd>\\\\1\",text)\r\n",
        "    if \"Ph.D\" in text: text = text.replace(\"Ph.D.\",\"Ph<prd>D<prd>\")\r\n",
        "    text = re.sub(\"\\s\" + alphabets + \"[.] \",\" \\\\1<prd> \",text)\r\n",
        "    text = re.sub(acronyms+\" \"+starters,\"\\\\1<stop> \\\\2\",text)\r\n",
        "    text = re.sub(alphabets + \"[.]\" + alphabets + \"[.]\" + alphabets + \"[.]\",\"\\\\1<prd>\\\\2<prd>\\\\3<prd>\",text)\r\n",
        "    text = re.sub(alphabets + \"[.]\" + alphabets + \"[.]\",\"\\\\1<prd>\\\\2<prd>\",text)\r\n",
        "    text = re.sub(\" \"+suffixes+\"[.] \"+starters,\" \\\\1<stop> \\\\2\",text)\r\n",
        "    text = re.sub(\" \"+suffixes+\"[.]\",\" \\\\1<prd>\",text)\r\n",
        "    text = re.sub(\" \" + alphabets + \"[.]\",\" \\\\1<prd>\",text)\r\n",
        "    if \"”\" in text: text = text.replace(\".”\",\"”.\")\r\n",
        "    if \"\\\"\" in text: text = text.replace(\".\\\"\",\"\\\".\")\r\n",
        "    if \"!\" in text: text = text.replace(\"!\\\"\",\"\\\"!\")\r\n",
        "    if \"?\" in text: text = text.replace(\"?\\\"\",\"\\\"?\")\r\n",
        "    text = text.replace(\".\",\".<stop>\")\r\n",
        "    text = text.replace(\"?\",\"?<stop>\")\r\n",
        "    text = text.replace(\"!\",\"!<stop>\")\r\n",
        "    text = text.replace(\"<prd>\",\".\")\r\n",
        "    sentences = text.split(\"<stop>\")\r\n",
        "    sentences = sentences[:-1]\r\n",
        "    sentences = [s.strip() for s in sentences]\r\n",
        "    return sentences"
      ],
      "execution_count": 10,
      "outputs": []
    },
    {
      "cell_type": "code",
      "metadata": {
        "id": "NdGgIIqk0HiD"
      },
      "source": [
        "#Text files links\r\n",
        "A1_text=\"https://raw.githubusercontent.com/Osman-Gokturk/Big-Scale-Analytics/main/A1.txt\"\r\n",
        "A2_text=\"https://raw.githubusercontent.com/Osman-Gokturk/Big-Scale-Analytics/main/A2.txt\"\r\n",
        "B1_text=\"https://raw.githubusercontent.com/Osman-Gokturk/Big-Scale-Analytics/main/B1.txt\"\r\n",
        "B2_text=\"https://raw.githubusercontent.com/Osman-Gokturk/Big-Scale-Analytics/main/B2.txt\"\r\n",
        "C1_text=\"https://raw.githubusercontent.com/Osman-Gokturk/Big-Scale-Analytics/main/C1.txt\"\r\n",
        "C2_text=\"https://raw.githubusercontent.com/Osman-Gokturk/Big-Scale-Analytics/main/C2.txt\""
      ],
      "execution_count": 27,
      "outputs": []
    },
    {
      "cell_type": "code",
      "metadata": {
        "id": "K1oKbofE0HSZ"
      },
      "source": [
        ""
      ],
      "execution_count": null,
      "outputs": []
    },
    {
      "cell_type": "code",
      "metadata": {
        "id": "rT_YIs8h29-F"
      },
      "source": [
        "\r\n",
        "text_links=[A1_text,A2_text, B1_text,B2_text,C1_text,C2_text]\r\n",
        "levels=[\"A1\", \"A2\", \"B1\", \"B2\",\"C1\",\"C2\"]\r\n",
        "large_table=pd.DataFrame()\r\n",
        "for (txt,level) in zip(text_links, levels):\r\n",
        "  result=requests.get(txt)\r\n",
        "  text=result.text\r\n",
        "  txt_sentences=split_into_sentences(text)\r\n",
        "  txt_t=pd.DataFrame(txt_sentences)\r\n",
        "  table=txt_t.assign(Annotation=level)\r\n",
        "  large_table=pd.concat([large_table,table], axis=0)\r\n",
        "\r\n"
      ],
      "execution_count": 28,
      "outputs": []
    },
    {
      "cell_type": "code",
      "metadata": {
        "colab": {
          "base_uri": "https://localhost:8080/",
          "height": 399
        },
        "id": "Vrdey-LrAOvN",
        "outputId": "46dd2ff6-7861-45bc-a1d5-2de41e0e880b"
      },
      "source": [
        "large_table"
      ],
      "execution_count": 29,
      "outputs": [
        {
          "output_type": "execute_result",
          "data": {
            "text/html": [
              "<div>\n",
              "<style scoped>\n",
              "    .dataframe tbody tr th:only-of-type {\n",
              "        vertical-align: middle;\n",
              "    }\n",
              "\n",
              "    .dataframe tbody tr th {\n",
              "        vertical-align: top;\n",
              "    }\n",
              "\n",
              "    .dataframe thead th {\n",
              "        text-align: right;\n",
              "    }\n",
              "</style>\n",
              "<table border=\"1\" class=\"dataframe\">\n",
              "  <thead>\n",
              "    <tr style=\"text-align: right;\">\n",
              "      <th></th>\n",
              "      <th>0</th>\n",
              "      <th>Annotation</th>\n",
              "    </tr>\n",
              "  </thead>\n",
              "  <tbody>\n",
              "    <tr>\n",
              "      <th>0</th>\n",
              "      <td>Dans une maison de retraite, on ressasse ce qu...</td>\n",
              "      <td>A1</td>\n",
              "    </tr>\n",
              "    <tr>\n",
              "      <th>1</th>\n",
              "      <td>Chloé\\r Elle, c’est Gérarda, elle a 85 ans, et...</td>\n",
              "      <td>A1</td>\n",
              "    </tr>\n",
              "    <tr>\n",
              "      <th>2</th>\n",
              "      <td>Moi c’est Chloé et je vais vous raconter l’his...</td>\n",
              "      <td>A1</td>\n",
              "    </tr>\n",
              "    <tr>\n",
              "      <th>3</th>\n",
              "      <td>Séverine\\r Je vis chez Gérarda avec ma fille d...</td>\n",
              "      <td>A1</td>\n",
              "    </tr>\n",
              "    <tr>\n",
              "      <th>4</th>\n",
              "      <td>Auparavant je l’avais connue par rapport à ma ...</td>\n",
              "      <td>A1</td>\n",
              "    </tr>\n",
              "    <tr>\n",
              "      <th>...</th>\n",
              "      <td>...</td>\n",
              "      <td>...</td>\n",
              "    </tr>\n",
              "    <tr>\n",
              "      <th>75</th>\n",
              "      <td>Nous devons apprendre une multitude de langage...</td>\n",
              "      <td>C2</td>\n",
              "    </tr>\n",
              "    <tr>\n",
              "      <th>76</th>\n",
              "      <td>Communiquer et penser dans tant de langages im...</td>\n",
              "      <td>C2</td>\n",
              "    </tr>\n",
              "    <tr>\n",
              "      <th>77</th>\n",
              "      <td>Il doit en m�me temps acqu�rir des automatisme...</td>\n",
              "      <td>C2</td>\n",
              "    </tr>\n",
              "    <tr>\n",
              "      <th>78</th>\n",
              "      <td>L��cole doit former les enfants � se s�parer d...</td>\n",
              "      <td>C2</td>\n",
              "    </tr>\n",
              "    <tr>\n",
              "      <th>79</th>\n",
              "      <td>C�est ce d�centrage que notre syst�me �ducatif...</td>\n",
              "      <td>C2</td>\n",
              "    </tr>\n",
              "  </tbody>\n",
              "</table>\n",
              "<p>297 rows × 2 columns</p>\n",
              "</div>"
            ],
            "text/plain": [
              "                                                    0 Annotation\n",
              "0   Dans une maison de retraite, on ressasse ce qu...         A1\n",
              "1   Chloé\\r Elle, c’est Gérarda, elle a 85 ans, et...         A1\n",
              "2   Moi c’est Chloé et je vais vous raconter l’his...         A1\n",
              "3   Séverine\\r Je vis chez Gérarda avec ma fille d...         A1\n",
              "4   Auparavant je l’avais connue par rapport à ma ...         A1\n",
              "..                                                ...        ...\n",
              "75  Nous devons apprendre une multitude de langage...         C2\n",
              "76  Communiquer et penser dans tant de langages im...         C2\n",
              "77  Il doit en m�me temps acqu�rir des automatisme...         C2\n",
              "78  L��cole doit former les enfants � se s�parer d...         C2\n",
              "79  C�est ce d�centrage que notre syst�me �ducatif...         C2\n",
              "\n",
              "[297 rows x 2 columns]"
            ]
          },
          "metadata": {
            "tags": []
          },
          "execution_count": 29
        }
      ]
    },
    {
      "cell_type": "code",
      "metadata": {
        "id": "iPYcAuO73Q4o"
      },
      "source": [
        "from google.colab import files\r\n",
        "large_table.to_csv('large_table.csv', index=False, encoding='utf-8-sig') "
      ],
      "execution_count": 30,
      "outputs": []
    },
    {
      "cell_type": "code",
      "metadata": {
        "id": "y8636QU7JbZ1"
      },
      "source": [
        "#downloading\r\n",
        "files.download('large_table.csv')"
      ],
      "execution_count": null,
      "outputs": []
    },
    {
      "cell_type": "code",
      "metadata": {
        "id": "4sPGgnqNsttQ"
      },
      "source": [
        "#Anotated sentences\r\n",
        "B1_annotated=[['Sentences'],['Level']]"
      ],
      "execution_count": 59,
      "outputs": []
    },
    {
      "cell_type": "code",
      "metadata": {
        "id": "fIMNQr_u5e4D"
      },
      "source": [
        "# Split a text into sentences\r\n",
        "B1_annotated=split_into_sentences(B1_text)\r\n",
        "C1_annotated=split_into_sentences(C1_text)"
      ],
      "execution_count": 79,
      "outputs": []
    },
    {
      "cell_type": "code",
      "metadata": {
        "id": "yVSCzAgOrE6X"
      },
      "source": [
        "#French characters\r\n"
      ],
      "execution_count": 61,
      "outputs": []
    },
    {
      "cell_type": "code",
      "metadata": {
        "id": "y6EyzfDjtrdi"
      },
      "source": [
        "#Pandas DataFrame\r\n",
        "B1_s=pd.DataFrame(B1_annotated)\r\n",
        "B1_s.columns=['Phrases']\r\n",
        "B1_table=B1_s.assign(Level='B1')\r\n",
        "\r\n",
        "\r\n",
        "C1_s=pd.DataFrame(C1_annotated)\r\n",
        "C1_s.columns=['Phrases']\r\n",
        "C1_table=C1_s.assign(Level='C1')"
      ],
      "execution_count": 87,
      "outputs": []
    },
    {
      "cell_type": "code",
      "metadata": {
        "id": "8L-mdopk2ysi"
      },
      "source": [
        "r=pd.concat([B1_table,C1_table], axis=0)"
      ],
      "execution_count": 88,
      "outputs": []
    },
    {
      "cell_type": "code",
      "metadata": {
        "colab": {
          "base_uri": "https://localhost:8080/",
          "height": 370
        },
        "id": "Bct8DBOn0z55",
        "outputId": "a50b0e28-294e-4884-a276-df987e494d2c"
      },
      "source": [
        "r"
      ],
      "execution_count": 89,
      "outputs": [
        {
          "output_type": "execute_result",
          "data": {
            "text/html": [
              "<div>\n",
              "<style scoped>\n",
              "    .dataframe tbody tr th:only-of-type {\n",
              "        vertical-align: middle;\n",
              "    }\n",
              "\n",
              "    .dataframe tbody tr th {\n",
              "        vertical-align: top;\n",
              "    }\n",
              "\n",
              "    .dataframe thead th {\n",
              "        text-align: right;\n",
              "    }\n",
              "</style>\n",
              "<table border=\"1\" class=\"dataframe\">\n",
              "  <thead>\n",
              "    <tr style=\"text-align: right;\">\n",
              "      <th></th>\n",
              "      <th>Phrases</th>\n",
              "      <th>Level</th>\n",
              "    </tr>\n",
              "  </thead>\n",
              "  <tbody>\n",
              "    <tr>\n",
              "      <th>0</th>\n",
              "      <td>Le château de Versailles sur la nouvelle appli...</td>\n",
              "      <td>B1</td>\n",
              "    </tr>\n",
              "    <tr>\n",
              "      <th>1</th>\n",
              "      <td>La visite du château en 20 secondes, top chrono.</td>\n",
              "      <td>B1</td>\n",
              "    </tr>\n",
              "    <tr>\n",
              "      <th>2</th>\n",
              "      <td>Thomas Garnier s’occupe de la communication nu...</td>\n",
              "      <td>B1</td>\n",
              "    </tr>\n",
              "    <tr>\n",
              "      <th>3</th>\n",
              "      <td>C’est le château, côté coulisses.</td>\n",
              "      <td>B1</td>\n",
              "    </tr>\n",
              "    <tr>\n",
              "      <th>0</th>\n",
              "      <td>L’apprentissage du code et plus largement d’un...</td>\n",
              "      <td>C1</td>\n",
              "    </tr>\n",
              "    <tr>\n",
              "      <th>1</th>\n",
              "      <td>[…] Selon un sondage publié en mai dernier par...</td>\n",
              "      <td>C1</td>\n",
              "    </tr>\n",
              "    <tr>\n",
              "      <th>2</th>\n",
              "      <td>Mais cette initiative suscite par ailleurs bea...</td>\n",
              "      <td>C1</td>\n",
              "    </tr>\n",
              "    <tr>\n",
              "      <th>3</th>\n",
              "      <td>On entend souvent l’argument selon lequel on n...</td>\n",
              "      <td>C1</td>\n",
              "    </tr>\n",
              "    <tr>\n",
              "      <th>4</th>\n",
              "      <td>Le nombre insuffisant de professeurs formés es...</td>\n",
              "      <td>C1</td>\n",
              "    </tr>\n",
              "    <tr>\n",
              "      <th>5</th>\n",
              "      <td>Entre ceux qui ne jurent que par l’introductio...</td>\n",
              "      <td>C1</td>\n",
              "    </tr>\n",
              "    <tr>\n",
              "      <th>6</th>\n",
              "      <td>L’action de la fondation La Main à la pâte, qu...</td>\n",
              "      <td>C1</td>\n",
              "    </tr>\n",
              "  </tbody>\n",
              "</table>\n",
              "</div>"
            ],
            "text/plain": [
              "                                             Phrases Level\n",
              "0  Le château de Versailles sur la nouvelle appli...    B1\n",
              "1   La visite du château en 20 secondes, top chrono.    B1\n",
              "2  Thomas Garnier s’occupe de la communication nu...    B1\n",
              "3                  C’est le château, côté coulisses.    B1\n",
              "0  L’apprentissage du code et plus largement d’un...    C1\n",
              "1  […] Selon un sondage publié en mai dernier par...    C1\n",
              "2  Mais cette initiative suscite par ailleurs bea...    C1\n",
              "3  On entend souvent l’argument selon lequel on n...    C1\n",
              "4  Le nombre insuffisant de professeurs formés es...    C1\n",
              "5  Entre ceux qui ne jurent que par l’introductio...    C1\n",
              "6  L’action de la fondation La Main à la pâte, qu...    C1"
            ]
          },
          "metadata": {
            "tags": []
          },
          "execution_count": 89
        }
      ]
    },
    {
      "cell_type": "code",
      "metadata": {
        "id": "uV0jtSR4tTjA"
      },
      "source": [
        "#Put into Csv file and French Characters\r\n",
        "#To handle french characters, we utilised  \"utf-8-sig\" parametrization.\r\n",
        "\r\n",
        "from google.colab import files\r\n",
        "B1_s.to_csv('b1.csv', index=False, encoding='utf-8-sig') \r\n"
      ],
      "execution_count": 16,
      "outputs": []
    },
    {
      "cell_type": "code",
      "metadata": {
        "colab": {
          "base_uri": "https://localhost:8080/",
          "height": 17
        },
        "id": "hj-95AziyFuJ",
        "outputId": "f44d6a92-2c39-4784-96a4-aba2feb82ff2"
      },
      "source": [
        ""
      ],
      "execution_count": 31,
      "outputs": [
        {
          "output_type": "display_data",
          "data": {
            "application/javascript": [
              "\n",
              "    async function download(id, filename, size) {\n",
              "      if (!google.colab.kernel.accessAllowed) {\n",
              "        return;\n",
              "      }\n",
              "      const div = document.createElement('div');\n",
              "      const label = document.createElement('label');\n",
              "      label.textContent = `Downloading \"${filename}\": `;\n",
              "      div.appendChild(label);\n",
              "      const progress = document.createElement('progress');\n",
              "      progress.max = size;\n",
              "      div.appendChild(progress);\n",
              "      document.body.appendChild(div);\n",
              "\n",
              "      const buffers = [];\n",
              "      let downloaded = 0;\n",
              "\n",
              "      const channel = await google.colab.kernel.comms.open(id);\n",
              "      // Send a message to notify the kernel that we're ready.\n",
              "      channel.send({})\n",
              "\n",
              "      for await (const message of channel.messages) {\n",
              "        // Send a message to notify the kernel that we're ready.\n",
              "        channel.send({})\n",
              "        if (message.buffers) {\n",
              "          for (const buffer of message.buffers) {\n",
              "            buffers.push(buffer);\n",
              "            downloaded += buffer.byteLength;\n",
              "            progress.value = downloaded;\n",
              "          }\n",
              "        }\n",
              "      }\n",
              "      const blob = new Blob(buffers, {type: 'application/binary'});\n",
              "      const a = document.createElement('a');\n",
              "      a.href = window.URL.createObjectURL(blob);\n",
              "      a.download = filename;\n",
              "      div.appendChild(a);\n",
              "      a.click();\n",
              "      div.remove();\n",
              "    }\n",
              "  "
            ],
            "text/plain": [
              "<IPython.core.display.Javascript object>"
            ]
          },
          "metadata": {
            "tags": []
          }
        },
        {
          "output_type": "display_data",
          "data": {
            "application/javascript": [
              "download(\"download_208254ed-81a2-4dcd-92e8-b53e3e21d95c\", \"large_table.csv\", 43765)"
            ],
            "text/plain": [
              "<IPython.core.display.Javascript object>"
            ]
          },
          "metadata": {
            "tags": []
          }
        }
      ]
    },
    {
      "cell_type": "code",
      "metadata": {
        "id": "SmBcXIVbyFop"
      },
      "source": [
        ""
      ],
      "execution_count": null,
      "outputs": []
    }
  ]
}